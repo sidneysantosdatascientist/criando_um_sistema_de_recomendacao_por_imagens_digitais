{
  "nbformat": 4,
  "nbformat_minor": 0,
  "metadata": {
    "colab": {
      "provenance": [],
      "gpuType": "T4"
    },
    "kernelspec": {
      "name": "python3",
      "display_name": "Python 3"
    },
    "language_info": {
      "name": "python"
    },
    "accelerator": "GPU"
  },
  "cells": [
    {
      "cell_type": "markdown",
      "source": [
        "OUTRA OPCAO"
      ],
      "metadata": {
        "id": "xrcE01154VAa"
      }
    },
    {
      "cell_type": "code",
      "source": [
        "import tensorflow as tf\n",
        "from tensorflow.keras.applications import ResNet50\n",
        "from tensorflow.keras.applications.resnet50 import preprocess_input\n",
        "from tensorflow.keras.preprocessing import image\n",
        "import numpy as np\n",
        "from sklearn.metrics.pairwise import cosine_similarity\n",
        "from google.colab import files\n",
        "import os\n",
        "import matplotlib.pyplot as plt\n",
        "\n",
        "# Carregar o modelo ResNet50 pré-treinado\n",
        "model = ResNet50(weights='imagenet', include_top=False, pooling='avg')\n",
        "\n",
        "def extract_features(img_path):\n",
        "    img = image.load_img(img_path, target_size=(224, 224))\n",
        "    img_data = image.img_to_array(img)\n",
        "    img_data = np.expand_dims(img_data, axis=0)\n",
        "    img_data = preprocess_input(img_data)\n",
        "    features = model.predict(img_data)\n",
        "    return features\n",
        "\n",
        "def calculate_similarity(features1, features2):\n",
        "    return cosine_similarity(features1.reshape(1, -1), features2.reshape(1, -1))\n",
        "\n",
        "# Fazer o upload das imagens\n",
        "uploaded = files.upload()\n",
        "\n",
        "# Listar os nomes das imagens carregadas\n",
        "image_paths = list(uploaded.keys())\n",
        "print(\"Imagens carregadas:\", image_paths)\n",
        "\n",
        "# Extrair características de todas as imagens\n",
        "features_list = [extract_features(img_path) for img_path in image_paths]\n",
        "\n",
        "# Dicionário para armazenar as recomendações\n",
        "recommendations = {}\n",
        "\n",
        "# Comparar cada imagem com todas as outras\n",
        "for i, img_path in enumerate(image_paths):\n",
        "    similar_images = []\n",
        "    for j, other_img_path in enumerate(image_paths):\n",
        "        if i != j:  # Não comparar a imagem com ela mesma\n",
        "            similarity = calculate_similarity(features_list[i], features_list[j])\n",
        "            if similarity[0][0] > 0.5:  # Similaridade maior que 50%\n",
        "                similar_images.append((other_img_path, similarity[0][0]))\n",
        "    recommendations[img_path] = similar_images\n",
        "\n",
        "# Função para exibir imagens\n",
        "def display_images(img_path, similar_images):\n",
        "    plt.figure(figsize=(10, 5))\n",
        "\n",
        "    # Exibir a imagem original\n",
        "    plt.subplot(1, len(similar_images) + 1, 1)\n",
        "    img = image.load_img(img_path)\n",
        "    plt.imshow(img)\n",
        "    plt.title(\"Original: \" + img_path)\n",
        "    plt.axis('off')\n",
        "\n",
        "    # Exibir as imagens recomendadas\n",
        "    for idx, (similar_img, similarity) in enumerate(similar_images):\n",
        "        plt.subplot(1, len(similar_images) + 1, idx + 2)\n",
        "        img = image.load_img(similar_img)\n",
        "        plt.imshow(img)\n",
        "        plt.title(f\"Similar: {similar_img}\\nSimilaridade: {similarity:.2f}\")\n",
        "        plt.axis('off')\n",
        "\n",
        "    plt.show()\n",
        "\n",
        "# Mostrar as recomendações e exibir as imagens\n",
        "for img_path, similar_images in recommendations.items():\n",
        "    print(f\"\\nRecomendações para {img_path}:\")\n",
        "    if similar_images:\n",
        "        display_images(img_path, similar_images)\n",
        "    else:\n",
        "        print(\"- Nenhuma imagem com similaridade > 80% encontrada.\")"
      ],
      "metadata": {
        "id": "KpeRjVpN92Sb"
      },
      "execution_count": null,
      "outputs": []
    }
  ]
}